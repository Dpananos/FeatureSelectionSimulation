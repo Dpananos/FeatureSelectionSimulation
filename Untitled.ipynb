{
 "cells": [
  {
   "cell_type": "code",
   "execution_count": 122,
   "metadata": {},
   "outputs": [
    {
     "name": "stdout",
     "output_type": "stream",
     "text": [
      "The autoreload extension is already loaded. To reload it, use:\n",
      "  %reload_ext autoreload\n"
     ]
    }
   ],
   "source": [
    "%load_ext autoreload\n",
    "%autoreload 2\n",
    "from simulation import *\n",
    "from make_data import *\n",
    "\n",
    "import numpy as np\n",
    "from sklearn.base import BaseEstimator, TransformerMixin\n",
    "from sklearn.linear_model import LassoCV, LinearRegression\n",
    "from sklearn.pipeline import make_pipeline\n",
    "from sklearn.model_selection import cross_val_score, RepeatedKFold\n",
    "from sklearn.metrics import mean_squared_error, mean_absolute_error\n",
    "from sklearn.datasets import load_diabetes, load_boston\n",
    "from sklearn.utils import resample\n",
    "from sklearn.preprocessing import StandardScaler\n",
    "\n",
    "import matplotlib.pyplot as plt\n",
    "%matplotlib inline"
   ]
  },
  {
   "cell_type": "code",
   "execution_count": 73,
   "metadata": {},
   "outputs": [
    {
     "name": "stderr",
     "output_type": "stream",
     "text": [
      "/Users/demetri/opt/miniconda3/lib/python3.8/site-packages/sklearn/model_selection/_validation.py:548: FitFailedWarning: Estimator fit failed. The score on this train-test partition for these parameters will be set to nan. Details: \n",
      "Traceback (most recent call last):\n",
      "  File \"/Users/demetri/opt/miniconda3/lib/python3.8/site-packages/sklearn/model_selection/_validation.py\", line 531, in _fit_and_score\n",
      "    estimator.fit(X_train, y_train, **fit_params)\n",
      "  File \"/Users/demetri/opt/miniconda3/lib/python3.8/site-packages/sklearn/pipeline.py\", line 335, in fit\n",
      "    self._final_estimator.fit(Xt, y, **fit_params_last_step)\n",
      "  File \"/Users/demetri/opt/miniconda3/lib/python3.8/site-packages/sklearn/linear_model/_base.py\", line 505, in fit\n",
      "    X, y = self._validate_data(X, y, accept_sparse=['csr', 'csc', 'coo'],\n",
      "  File \"/Users/demetri/opt/miniconda3/lib/python3.8/site-packages/sklearn/base.py\", line 432, in _validate_data\n",
      "    X, y = check_X_y(X, y, **check_params)\n",
      "  File \"/Users/demetri/opt/miniconda3/lib/python3.8/site-packages/sklearn/utils/validation.py\", line 72, in inner_f\n",
      "    return f(**kwargs)\n",
      "  File \"/Users/demetri/opt/miniconda3/lib/python3.8/site-packages/sklearn/utils/validation.py\", line 795, in check_X_y\n",
      "    X = check_array(X, accept_sparse=accept_sparse,\n",
      "  File \"/Users/demetri/opt/miniconda3/lib/python3.8/site-packages/sklearn/utils/validation.py\", line 72, in inner_f\n",
      "    return f(**kwargs)\n",
      "  File \"/Users/demetri/opt/miniconda3/lib/python3.8/site-packages/sklearn/utils/validation.py\", line 644, in check_array\n",
      "    _assert_all_finite(array,\n",
      "  File \"/Users/demetri/opt/miniconda3/lib/python3.8/site-packages/sklearn/utils/validation.py\", line 96, in _assert_all_finite\n",
      "    raise ValueError(\n",
      "ValueError: Input contains NaN, infinity or a value too large for dtype('float64').\n",
      "\n",
      "  warnings.warn(\"Estimator fit failed. The score on this train-test\"\n",
      "/Users/demetri/opt/miniconda3/lib/python3.8/site-packages/sklearn/model_selection/_validation.py:548: FitFailedWarning: Estimator fit failed. The score on this train-test partition for these parameters will be set to nan. Details: \n",
      "Traceback (most recent call last):\n",
      "  File \"/Users/demetri/opt/miniconda3/lib/python3.8/site-packages/sklearn/model_selection/_validation.py\", line 531, in _fit_and_score\n",
      "    estimator.fit(X_train, y_train, **fit_params)\n",
      "  File \"/Users/demetri/opt/miniconda3/lib/python3.8/site-packages/sklearn/pipeline.py\", line 335, in fit\n",
      "    self._final_estimator.fit(Xt, y, **fit_params_last_step)\n",
      "  File \"/Users/demetri/opt/miniconda3/lib/python3.8/site-packages/sklearn/linear_model/_base.py\", line 505, in fit\n",
      "    X, y = self._validate_data(X, y, accept_sparse=['csr', 'csc', 'coo'],\n",
      "  File \"/Users/demetri/opt/miniconda3/lib/python3.8/site-packages/sklearn/base.py\", line 432, in _validate_data\n",
      "    X, y = check_X_y(X, y, **check_params)\n",
      "  File \"/Users/demetri/opt/miniconda3/lib/python3.8/site-packages/sklearn/utils/validation.py\", line 72, in inner_f\n",
      "    return f(**kwargs)\n",
      "  File \"/Users/demetri/opt/miniconda3/lib/python3.8/site-packages/sklearn/utils/validation.py\", line 795, in check_X_y\n",
      "    X = check_array(X, accept_sparse=accept_sparse,\n",
      "  File \"/Users/demetri/opt/miniconda3/lib/python3.8/site-packages/sklearn/utils/validation.py\", line 72, in inner_f\n",
      "    return f(**kwargs)\n",
      "  File \"/Users/demetri/opt/miniconda3/lib/python3.8/site-packages/sklearn/utils/validation.py\", line 644, in check_array\n",
      "    _assert_all_finite(array,\n",
      "  File \"/Users/demetri/opt/miniconda3/lib/python3.8/site-packages/sklearn/utils/validation.py\", line 96, in _assert_all_finite\n",
      "    raise ValueError(\n",
      "ValueError: Input contains NaN, infinity or a value too large for dtype('float64').\n",
      "\n",
      "  warnings.warn(\"Estimator fit failed. The score on this train-test\"\n",
      "/Users/demetri/opt/miniconda3/lib/python3.8/site-packages/sklearn/model_selection/_validation.py:548: FitFailedWarning: Estimator fit failed. The score on this train-test partition for these parameters will be set to nan. Details: \n",
      "Traceback (most recent call last):\n",
      "  File \"/Users/demetri/opt/miniconda3/lib/python3.8/site-packages/sklearn/model_selection/_validation.py\", line 531, in _fit_and_score\n",
      "    estimator.fit(X_train, y_train, **fit_params)\n",
      "  File \"/Users/demetri/opt/miniconda3/lib/python3.8/site-packages/sklearn/pipeline.py\", line 335, in fit\n",
      "    self._final_estimator.fit(Xt, y, **fit_params_last_step)\n",
      "  File \"/Users/demetri/opt/miniconda3/lib/python3.8/site-packages/sklearn/linear_model/_base.py\", line 505, in fit\n",
      "    X, y = self._validate_data(X, y, accept_sparse=['csr', 'csc', 'coo'],\n",
      "  File \"/Users/demetri/opt/miniconda3/lib/python3.8/site-packages/sklearn/base.py\", line 432, in _validate_data\n",
      "    X, y = check_X_y(X, y, **check_params)\n",
      "  File \"/Users/demetri/opt/miniconda3/lib/python3.8/site-packages/sklearn/utils/validation.py\", line 72, in inner_f\n",
      "    return f(**kwargs)\n",
      "  File \"/Users/demetri/opt/miniconda3/lib/python3.8/site-packages/sklearn/utils/validation.py\", line 795, in check_X_y\n",
      "    X = check_array(X, accept_sparse=accept_sparse,\n",
      "  File \"/Users/demetri/opt/miniconda3/lib/python3.8/site-packages/sklearn/utils/validation.py\", line 72, in inner_f\n",
      "    return f(**kwargs)\n",
      "  File \"/Users/demetri/opt/miniconda3/lib/python3.8/site-packages/sklearn/utils/validation.py\", line 644, in check_array\n",
      "    _assert_all_finite(array,\n",
      "  File \"/Users/demetri/opt/miniconda3/lib/python3.8/site-packages/sklearn/utils/validation.py\", line 96, in _assert_all_finite\n",
      "    raise ValueError(\n",
      "ValueError: Input contains NaN, infinity or a value too large for dtype('float64').\n",
      "\n",
      "  warnings.warn(\"Estimator fit failed. The score on this train-test\"\n"
     ]
    },
    {
     "data": {
      "text/plain": [
       "array([nan, nan, nan])"
      ]
     },
     "execution_count": 73,
     "metadata": {},
     "output_type": "execute_result"
    }
   ],
   "source": [
    "X,y = boston_data()\n",
    "lasso_selection = make_pipeline(StandardScaler(), LassoSelector(), LinearRegression())\n",
    "correlation_selection = make_pipeline(StandardScaler(), CorrelationSelector(), LinearRegression())\n",
    "lasso = make_pipeline(StandardScaler(), LassoCV(cv=10))\n",
    "\n",
    "n_observations, n_features = X.shape\n",
    "df = pd.DataFrame(X, columns = [f'x_{j}' for j in range(n_features)])\n",
    "# Purposefully mispecify the knots.  \n",
    "list_of_spline_transforms = [(f'spline_{feature}', RestrictedCubicSpline(k=3), [feature]) for feature in df.columns.tolist()]\n",
    "ct = ColumnTransformer(list_of_spline_transforms)\n",
    "\n",
    "splines = make_pipeline(ct, LinearRegression())\n",
    "\n",
    "cross_val_score(splines, df, y, cv = 3)\n",
    "\n",
    "\n",
    "\n"
   ]
  },
  {
   "cell_type": "code",
   "execution_count": 70,
   "metadata": {},
   "outputs": [
    {
     "data": {
      "text/plain": [
       "array([nan, nan, nan, nan, nan, nan, nan, nan, nan, nan, nan, nan, nan,\n",
       "       nan, nan, nan, nan, nan, nan, nan, nan, nan, nan, nan, nan, nan,\n",
       "       nan, nan, nan, nan, nan, nan, nan, nan, nan, nan, nan, nan, nan,\n",
       "       nan, nan, nan, nan, nan, nan, nan, nan, nan, nan, nan, nan, nan,\n",
       "       nan, nan, nan, nan, nan, nan, nan, nan, nan, nan, nan, nan, nan,\n",
       "       nan, nan, nan, nan, nan, nan, nan, nan, nan, nan, nan, nan, nan,\n",
       "       nan, nan, nan, nan, nan, nan, nan, nan, nan, nan, nan, nan, nan,\n",
       "       nan, nan, nan, nan, nan, nan, nan, nan, nan, nan, nan, nan, nan,\n",
       "       nan, nan, nan, nan, nan, nan, nan, nan, nan, nan, nan, nan, nan,\n",
       "       nan, nan, nan, nan, nan, nan, nan, nan, nan, nan, nan, nan, nan,\n",
       "       nan, nan, nan, nan, nan, nan, nan, nan, nan, nan, nan, nan, nan,\n",
       "       nan, nan, nan, nan, nan, nan, nan, nan, nan, nan, nan, nan, nan,\n",
       "       nan, nan, nan, nan, nan, nan, nan, nan, nan, nan, nan, nan, nan,\n",
       "       nan, nan, nan, nan, nan, nan, nan, nan, nan, nan, nan, nan, nan,\n",
       "       nan, nan, nan, nan, nan, nan, nan, nan, nan, nan, nan, nan, nan,\n",
       "       nan, nan, nan, nan, nan, nan, nan, nan, nan, nan, nan, nan, nan,\n",
       "       nan, nan, nan, nan, nan, nan, nan, nan, nan, nan, nan, nan, nan,\n",
       "       nan, nan, nan, nan, nan, nan, nan, nan, nan, nan, nan, nan, nan,\n",
       "       nan, nan, nan, nan, nan, nan, nan, nan, nan, nan, nan, nan, nan,\n",
       "       nan, nan, nan, nan, nan, nan, nan, nan, nan, nan, nan, nan, nan,\n",
       "       nan, nan, nan, nan, nan, nan, nan, nan, nan, nan, nan, nan, nan,\n",
       "       nan, nan, nan, nan, nan, nan, nan, nan, nan, nan, nan, nan, nan,\n",
       "       nan, nan, nan, nan, nan, nan, nan, nan, nan, nan, nan, nan, nan,\n",
       "       nan, nan, nan, nan, nan, nan, nan, nan, nan, nan, nan, nan, nan,\n",
       "       nan, nan, nan, nan, nan, nan, nan, nan, nan, nan, nan, nan, nan,\n",
       "       nan, nan, nan, nan, nan, nan, nan, nan, nan, nan, nan, nan, nan,\n",
       "       nan, nan, nan, nan, nan, nan, nan, nan, nan, nan, nan, nan, nan,\n",
       "       nan, nan, nan, nan, nan, nan, nan, nan, nan, nan, nan, nan, nan,\n",
       "       nan, nan, nan, nan, nan, nan, nan, nan, nan, nan, nan, nan, nan,\n",
       "       nan, nan, nan, nan, nan, nan, nan, nan, nan, nan, nan, nan, nan,\n",
       "       nan, nan, nan, nan, nan, nan, nan, nan, nan, nan, nan, nan, nan,\n",
       "       nan, nan, nan, nan, nan, nan, nan, nan, nan, nan, nan, nan, nan,\n",
       "       nan, nan, nan, nan, nan, nan, nan, nan, nan, nan, nan, nan, nan,\n",
       "       nan, nan, nan, nan, nan, nan, nan, nan, nan, nan, nan, nan, nan,\n",
       "       nan, nan, nan, nan, nan, nan, nan, nan, nan, nan, nan, nan, nan,\n",
       "       nan, nan, nan, nan, nan, nan, nan, nan, nan, nan, nan, nan, nan,\n",
       "       nan, nan, nan, nan, nan, nan, nan, nan, nan, nan, nan, nan, nan,\n",
       "       nan, nan, nan, nan, nan, nan, nan, nan, nan, nan, nan, nan, nan,\n",
       "       nan, nan, nan, nan, nan, nan, nan, nan, nan, nan, nan, nan])"
      ]
     },
     "execution_count": 70,
     "metadata": {},
     "output_type": "execute_result"
    }
   ],
   "source": [
    "ct.fit_transform(df)[:,7]"
   ]
  },
  {
   "cell_type": "code",
   "execution_count": 97,
   "metadata": {},
   "outputs": [
    {
     "name": "stderr",
     "output_type": "stream",
     "text": [
      "/Users/demetri/gitrepos/FeatureSelectionSimulation/rcs.py:55: RuntimeWarning: invalid value encountered in true_divide\n",
      "  basis_function -= linear_spline(X - self.t_[self.k-2])**3*(self.t_[-1] - self.t_[j])/(self.t_[-1] - self.t_[-2])\n",
      "/Users/demetri/gitrepos/FeatureSelectionSimulation/rcs.py:56: RuntimeWarning: invalid value encountered in true_divide\n",
      "  basis_function += linear_spline(X - self.t_[-1])**3 *(self.t_[-2] - self.t_[j])/(self.t_[-1] - self.t_[-2])\n"
     ]
    },
    {
     "data": {
      "text/plain": [
       "array([[ 0., nan],\n",
       "       [ 0., nan],\n",
       "       [ 0., nan],\n",
       "       ...,\n",
       "       [ 0., nan],\n",
       "       [ 0., nan],\n",
       "       [ 0., nan]])"
      ]
     },
     "execution_count": 97,
     "metadata": {},
     "output_type": "execute_result"
    }
   ],
   "source": [
    "X = load_boston()['data']\n",
    "RestrictedCubicSpline(k=3).fit_transform(X[:,[3]])"
   ]
  },
  {
   "cell_type": "code",
   "execution_count": 125,
   "metadata": {},
   "outputs": [],
   "source": [
    "df = pd.read_csv(\"non-linear.csv\")"
   ]
  },
  {
   "cell_type": "code",
   "execution_count": 126,
   "metadata": {},
   "outputs": [
    {
     "data": {
      "text/plain": [
       "<AxesSubplot:xlabel='means', ylabel='sds'>"
      ]
     },
     "execution_count": 126,
     "metadata": {},
     "output_type": "execute_result"
    },
    {
     "data": {
      "image/png": "[encoded data removed]",
      "text/plain": [
       "<Figure size 432x288 with 1 Axes>"
      ]
     },
     "metadata": {
      "needs_background": "light"
     },
     "output_type": "display_data"
    }
   ],
   "source": [
    "means = df.mean().to_frame('means')\n",
    "sds = df.std().to_frame('sds')\n",
    "sf = means.join(sds)\n",
    "sf.index.name = 'model'\n",
    "sf = sf.reset_index()\n",
    "\n",
    "import seaborn as sns\n",
    "\n",
    "sns.scatterplot(data=sf, x='means', y='sds', hue = 'model')"
   ]
  },
  {
   "cell_type": "code",
   "execution_count": 291,
   "metadata": {},
   "outputs": [
    {
     "data": {
      "text/plain": [
       "(-12.191244136917843, 12.191244136917843)"
      ]
     },
     "execution_count": 291,
     "metadata": {},
     "output_type": "execute_result"
    },
    {
     "data": {
      "image/png": "[encoded data removed]",
      "text/plain": [
       "<Figure size 960x960 with 1 Axes>"
      ]
     },
     "metadata": {
      "needs_background": "light"
     },
     "output_type": "display_data"
    }
   ],
   "source": [
    "\n",
    "\n",
    "lin_reg = sf[sf.model=='linear_regression']\n",
    "sf.iloc[:, 1:] = sf.iloc[:, 1:] - lin_reg.sample(n=sf.shape[0], replace = True).reset_index(drop = True).iloc[:, 1:]\n",
    "\n",
    "def make_plot():\n",
    "    fig, ax = plt.subplots(dpi = 120, figsize = (8,8))\n",
    "\n",
    "\n",
    "    ax.spines['left'].set_position('center')\n",
    "    ax.spines['bottom'].set_position('center')\n",
    "\n",
    "    # Eliminate upper and right axes\n",
    "    ax.spines['right'].set_color('none')\n",
    "    ax.spines['top'].set_color('none')\n",
    "\n",
    "\n",
    "    ax.annotate('Model\\nMore Accurate', \n",
    "                xy = (1, -0.2), \n",
    "                xytext = (0.55, -0.2),\n",
    "                xycoords = 'axes fraction',\n",
    "                textcoords = 'axes fraction',\n",
    "                arrowprops=dict(facecolor='black', arrowstyle = '->'),\n",
    "                horizontalalignment = 'left',\n",
    "                va = 'center')\n",
    "\n",
    "\n",
    "    ax.annotate('Linear Regression\\nMore Accurate', \n",
    "                xy = (0, -0.2), \n",
    "                xytext = (0.45, -0.2),\n",
    "                xycoords = 'axes fraction',\n",
    "                textcoords = 'axes fraction',\n",
    "                arrowprops=dict(facecolor='black', arrowstyle = '->'),\n",
    "                horizontalalignment = 'right',\n",
    "                va = 'center')\n",
    "\n",
    "\n",
    "    ax.annotate('Model\\nMore Variable', \n",
    "                xy = (1.2, 1), \n",
    "                xytext = (1.2, 0.65),\n",
    "                xycoords = 'axes fraction',\n",
    "                textcoords = 'axes fraction',\n",
    "                arrowprops=dict(facecolor='black', arrowstyle = '->'),\n",
    "                va = 'top',\n",
    "                ha = 'center',\n",
    "               rotation = 0)\n",
    "\n",
    "\n",
    "    ax.annotate('Linear Regression\\nMore Variable', \n",
    "                xy = (1.2, 0), \n",
    "                xytext = (1.2, 0.35),\n",
    "                xycoords = 'axes fraction',\n",
    "                textcoords = 'axes fraction',\n",
    "                arrowprops=dict(facecolor='black', arrowstyle = '->'),\n",
    "                va = 'bottom',\n",
    "                ha = 'center',\n",
    "               rotation = 0)\n",
    "    \n",
    "    return ax\n",
    "\n",
    "\n",
    "ax = make_plot()\n",
    "\n",
    "sf.plot.scatter(ax = ax, x = 'means',y = 'sds')\n",
    "\n",
    "yabs_max = abs(max(ax.get_ylim(), key=abs))\n",
    "xabs_max = abs(max(ax.get_xlim(), key=abs))\n",
    "\n",
    "ax.set_ylim(ymin=-2, ymax=2)\n",
    "ax.set_xlim(xmin=-xabs_max, xmax=xabs_max)\n"
   ]
  },
  {
   "cell_type": "code",
   "execution_count": null,
   "metadata": {},
   "outputs": [],
   "source": []
  }
 ],
 "metadata": {
  "kernelspec": {
   "display_name": "Python 3",
   "language": "python",
   "name": "python3"
  },
  "language_info": {
   "codemirror_mode": {
    "name": "ipython",
    "version": 3
   },
   "file_extension": ".py",
   "mimetype": "text/x-python",
   "name": "python",
   "nbconvert_exporter": "python",
   "pygments_lexer": "ipython3",
   "version": "3.8.3"
  }
 },
 "nbformat": 4,
 "nbformat_minor": 4
}
