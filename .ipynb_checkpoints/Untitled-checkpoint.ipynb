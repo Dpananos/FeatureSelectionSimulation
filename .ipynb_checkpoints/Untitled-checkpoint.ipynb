{
 "cells": [
  {
   "cell_type": "code",
   "execution_count": 1,
   "metadata": {},
   "outputs": [],
   "source": [
    "%load_ext autoreload\n",
    "%autoreload 2\n",
    "from simulation import *\n",
    "from make_data import *\n",
    "\n",
    "import numpy as np\n",
    "from sklearn.base import BaseEstimator, TransformerMixin\n",
    "from sklearn.linear_model import LassoCV, LinearRegression\n",
    "from sklearn.pipeline import make_pipeline\n",
    "from sklearn.model_selection import cross_val_score, RepeatedKFold\n",
    "from sklearn.metrics import mean_squared_error, mean_absolute_error\n",
    "from sklearn.datasets import load_diabetes, load_boston\n",
    "from sklearn.utils import resample\n",
    "from sklearn.preprocessing import StandardScaler\n"
   ]
  },
  {
   "cell_type": "code",
   "execution_count": 2,
   "metadata": {},
   "outputs": [],
   "source": [
    "data_loader = diabetes_data\n",
    "X,y = data_loader()\n",
    "lasso_selection = make_pipeline(StandardScaler(), LassoSelector(), LinearRegression())\n",
    "correlation_selection = make_pipeline(StandardScaler(), CorrelationSelector(), LinearRegression())\n",
    "lasso = make_pipeline(StandardScaler(), LassoCV(cv=10))\n",
    "\n",
    "n_observations, n_features = X.shape\n",
    "df = pd.DataFrame(X, columns = [f'x_{j}' for j in range(n_features)])\n",
    "# Purposefully mispecify the knots.  \n",
    "list_of_spline_transforms = [(f'spline_{feature}', RestrictedCubicSpline(k=3), [feature]) for feature in df.columns.tolist()]\n",
    "ct = ColumnTransformer(list_of_spline_transforms)\n",
    "\n",
    "splines = make_pipeline(StandardScaler(), ct, LinearRegression())"
   ]
  },
  {
   "cell_type": "code",
   "execution_count": 3,
   "metadata": {},
   "outputs": [
    {
     "name": "stderr",
     "output_type": "stream",
     "text": [
      "/Users/demetri/opt/miniconda3/lib/python3.8/site-packages/sklearn/model_selection/_validation.py:548: FitFailedWarning: Estimator fit failed. The score on this train-test partition for these parameters will be set to nan. Details: \n",
      "Traceback (most recent call last):\n",
      "  File \"/Users/demetri/opt/miniconda3/lib/python3.8/site-packages/sklearn/model_selection/_validation.py\", line 531, in _fit_and_score\n",
      "    estimator.fit(X_train, y_train, **fit_params)\n",
      "  File \"/Users/demetri/opt/miniconda3/lib/python3.8/site-packages/sklearn/pipeline.py\", line 330, in fit\n",
      "    Xt = self._fit(X, y, **fit_params_steps)\n",
      "  File \"/Users/demetri/opt/miniconda3/lib/python3.8/site-packages/sklearn/pipeline.py\", line 292, in _fit\n",
      "    X, fitted_transformer = fit_transform_one_cached(\n",
      "  File \"/Users/demetri/opt/miniconda3/lib/python3.8/site-packages/joblib/memory.py\", line 352, in __call__\n",
      "    return self.func(*args, **kwargs)\n",
      "  File \"/Users/demetri/opt/miniconda3/lib/python3.8/site-packages/sklearn/pipeline.py\", line 740, in _fit_transform_one\n",
      "    res = transformer.fit_transform(X, y, **fit_params)\n",
      "  File \"/Users/demetri/opt/miniconda3/lib/python3.8/site-packages/sklearn/base.py\", line 693, in fit_transform\n",
      "    return self.fit(X, y, **fit_params).transform(X)\n",
      "  File \"/Users/demetri/gitrepos/FeatureSelectionSimulation/simulation.py\", line 43, in transform\n",
      "    return X[:, np.argwhere(np.abs(self.correlations)>cutoff).ravel()]\n",
      "AttributeError: 'CorrelationSelector' object has no attribute 'correlations'\n",
      "\n",
      "  warnings.warn(\"Estimator fit failed. The score on this train-test\"\n",
      "/Users/demetri/opt/miniconda3/lib/python3.8/site-packages/sklearn/model_selection/_validation.py:548: FitFailedWarning: Estimator fit failed. The score on this train-test partition for these parameters will be set to nan. Details: \n",
      "Traceback (most recent call last):\n",
      "  File \"/Users/demetri/opt/miniconda3/lib/python3.8/site-packages/sklearn/model_selection/_validation.py\", line 531, in _fit_and_score\n",
      "    estimator.fit(X_train, y_train, **fit_params)\n",
      "  File \"/Users/demetri/opt/miniconda3/lib/python3.8/site-packages/sklearn/pipeline.py\", line 330, in fit\n",
      "    Xt = self._fit(X, y, **fit_params_steps)\n",
      "  File \"/Users/demetri/opt/miniconda3/lib/python3.8/site-packages/sklearn/pipeline.py\", line 292, in _fit\n",
      "    X, fitted_transformer = fit_transform_one_cached(\n",
      "  File \"/Users/demetri/opt/miniconda3/lib/python3.8/site-packages/joblib/memory.py\", line 352, in __call__\n",
      "    return self.func(*args, **kwargs)\n",
      "  File \"/Users/demetri/opt/miniconda3/lib/python3.8/site-packages/sklearn/pipeline.py\", line 740, in _fit_transform_one\n",
      "    res = transformer.fit_transform(X, y, **fit_params)\n",
      "  File \"/Users/demetri/opt/miniconda3/lib/python3.8/site-packages/sklearn/base.py\", line 693, in fit_transform\n",
      "    return self.fit(X, y, **fit_params).transform(X)\n",
      "  File \"/Users/demetri/gitrepos/FeatureSelectionSimulation/simulation.py\", line 43, in transform\n",
      "    return X[:, np.argwhere(np.abs(self.correlations)>cutoff).ravel()]\n",
      "AttributeError: 'CorrelationSelector' object has no attribute 'correlations'\n",
      "\n",
      "  warnings.warn(\"Estimator fit failed. The score on this train-test\"\n",
      "/Users/demetri/opt/miniconda3/lib/python3.8/site-packages/sklearn/model_selection/_validation.py:548: FitFailedWarning: Estimator fit failed. The score on this train-test partition for these parameters will be set to nan. Details: \n",
      "Traceback (most recent call last):\n",
      "  File \"/Users/demetri/opt/miniconda3/lib/python3.8/site-packages/sklearn/model_selection/_validation.py\", line 531, in _fit_and_score\n",
      "    estimator.fit(X_train, y_train, **fit_params)\n",
      "  File \"/Users/demetri/opt/miniconda3/lib/python3.8/site-packages/sklearn/pipeline.py\", line 330, in fit\n",
      "    Xt = self._fit(X, y, **fit_params_steps)\n",
      "  File \"/Users/demetri/opt/miniconda3/lib/python3.8/site-packages/sklearn/pipeline.py\", line 292, in _fit\n",
      "    X, fitted_transformer = fit_transform_one_cached(\n",
      "  File \"/Users/demetri/opt/miniconda3/lib/python3.8/site-packages/joblib/memory.py\", line 352, in __call__\n",
      "    return self.func(*args, **kwargs)\n",
      "  File \"/Users/demetri/opt/miniconda3/lib/python3.8/site-packages/sklearn/pipeline.py\", line 740, in _fit_transform_one\n",
      "    res = transformer.fit_transform(X, y, **fit_params)\n",
      "  File \"/Users/demetri/opt/miniconda3/lib/python3.8/site-packages/sklearn/base.py\", line 693, in fit_transform\n",
      "    return self.fit(X, y, **fit_params).transform(X)\n",
      "  File \"/Users/demetri/gitrepos/FeatureSelectionSimulation/simulation.py\", line 43, in transform\n",
      "    return X[:, np.argwhere(np.abs(self.correlations)>cutoff).ravel()]\n",
      "AttributeError: 'CorrelationSelector' object has no attribute 'correlations'\n",
      "\n",
      "  warnings.warn(\"Estimator fit failed. The score on this train-test\"\n"
     ]
    },
    {
     "data": {
      "text/plain": [
       "array([nan, nan, nan])"
      ]
     },
     "execution_count": 3,
     "metadata": {},
     "output_type": "execute_result"
    }
   ],
   "source": [
    "cross_val_score(correlation_selection, X, y, cv = 3)"
   ]
  },
  {
   "cell_type": "code",
   "execution_count": 4,
   "metadata": {},
   "outputs": [
    {
     "data": {
      "text/plain": [
       "[(0.1878887507189198, 7.055686149112759e-05),\n",
       " (0.04306199845160538, 0.3664292946517888),\n",
       " (0.5864501344746886, 3.4660064451655095e-42),\n",
       " (0.4414838489308861, 1.6485327478610998e-22),\n",
       " (0.21202248101455068, 6.920711787756615e-06),\n",
       " (0.17405358696874246, 0.00023598480959842948),\n",
       " (-0.3947892506709184, 6.1628646951821016e-18),\n",
       " (0.43045288474477306, 2.3042532817527275e-21),\n",
       " (0.5658834252428094, 8.823754157325068e-39),\n",
       " (0.3824834842485811, 7.580083266081541e-17)]"
      ]
     },
     "execution_count": 4,
     "metadata": {},
     "output_type": "execute_result"
    }
   ],
   "source": [
    "from scipy.stats import pearsonr\n",
    "\n",
    "[pearsonr(j,y) for j in X.T]"
   ]
  },
  {
   "cell_type": "code",
   "execution_count": 6,
   "metadata": {},
   "outputs": [],
   "source": [
    "x = CorrelationSelector().fit(X,y).correlations_"
   ]
  },
  {
   "cell_type": "code",
   "execution_count": 8,
   "metadata": {},
   "outputs": [
    {
     "data": {
      "text/plain": [
       "array([[ 0.06169621,  0.02187235, -0.0442235 , ..., -0.00259226,\n",
       "         0.01990842, -0.01764613],\n",
       "       [-0.05147406, -0.02632783, -0.00844872, ..., -0.03949338,\n",
       "        -0.06832974, -0.09220405],\n",
       "       [ 0.04445121, -0.00567061, -0.04559945, ..., -0.00259226,\n",
       "         0.00286377, -0.02593034],\n",
       "       ...,\n",
       "       [-0.01590626,  0.01728186, -0.03734373, ..., -0.01107952,\n",
       "        -0.04687948,  0.01549073],\n",
       "       [ 0.03906215,  0.00121513,  0.01631843, ...,  0.02655962,\n",
       "         0.04452837, -0.02593034],\n",
       "       [-0.0730303 , -0.08141377,  0.08374012, ..., -0.03949338,\n",
       "        -0.00421986,  0.00306441]])"
      ]
     },
     "execution_count": 8,
     "metadata": {},
     "output_type": "execute_result"
    }
   ],
   "source": [
    "X[:, np.argwhere(np.abs(x)>0.2).ravel()]"
   ]
  },
  {
   "cell_type": "code",
   "execution_count": null,
   "metadata": {},
   "outputs": [],
   "source": []
  }
 ],
 "metadata": {
  "kernelspec": {
   "display_name": "Python 3",
   "language": "python",
   "name": "python3"
  },
  "language_info": {
   "codemirror_mode": {
    "name": "ipython",
    "version": 3
   },
   "file_extension": ".py",
   "mimetype": "text/x-python",
   "name": "python",
   "nbconvert_exporter": "python",
   "pygments_lexer": "ipython3",
   "version": "3.8.3"
  }
 },
 "nbformat": 4,
 "nbformat_minor": 4
}
